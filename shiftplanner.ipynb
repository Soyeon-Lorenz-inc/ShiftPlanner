{
 "cells": [
  {
   "cell_type": "code",
   "execution_count": 2,
   "metadata": {},
   "outputs": [],
   "source": [
    "import pandas as pd\n",
    "\n",
    "def weekly():\n",
    "\n",
    "    columns = ['mon', 'tue', 'wed', 'thu', 'fri', 'sat', 'sun']\n",
    "    rows = ['f', 'm', 's']\n",
    "\n",
    "    df = pd.DataFrame(columns=columns, index=rows, dtype=bool)\n",
    "\n",
    "    return df"
   ]
  },
  {
   "cell_type": "code",
   "execution_count": 21,
   "metadata": {},
   "outputs": [],
   "source": [
    "weekdays = ['mon', 'tue', 'wed', 'thu', 'fri', 'sat', 'sun']\n",
    "\n",
    "class employee:\n",
    "    \n",
    "    def __init__(self, name:str, availability:pd.DataFrame, weekly_hours:int):\n",
    "        self.name = name\n",
    "        self.availability = availability\n",
    "        self.weekly_hours = weekly_hours\n",
    "\n",
    "\n",
    "    def available(self): # implement an error-handler!\n",
    "            for day in weekdays:\n",
    "                availability_bool = input(f'availability of {self.name} on {day} for früh, mittel, spät in boolean:').split(',')\n",
    "                bools = [bool(value.strip().lower() == 'true') for value in availability_bool]\n",
    "                self.availability[day] = bools\n"
   ]
  },
  {
   "cell_type": "code",
   "execution_count": 15,
   "metadata": {},
   "outputs": [],
   "source": [
    "# shift = [employee1, employee2, employee3, ... , employeen]\n",
    "\n",
    "a = employee('Ace', weekly(), 30)\n",
    "a.available()\n",
    "\n",
    "b = employee('Bruce', weekly(), 20)\n",
    "b.available()\n",
    "\n",
    "c = employee('Charlie', weekly(), 10)\n",
    "c.available()"
   ]
  },
  {
   "cell_type": "code",
   "execution_count": 16,
   "metadata": {},
   "outputs": [
    {
     "data": {
      "text/html": [
       "<div>\n",
       "<style scoped>\n",
       "    .dataframe tbody tr th:only-of-type {\n",
       "        vertical-align: middle;\n",
       "    }\n",
       "\n",
       "    .dataframe tbody tr th {\n",
       "        vertical-align: top;\n",
       "    }\n",
       "\n",
       "    .dataframe thead th {\n",
       "        text-align: right;\n",
       "    }\n",
       "</style>\n",
       "<table border=\"1\" class=\"dataframe\">\n",
       "  <thead>\n",
       "    <tr style=\"text-align: right;\">\n",
       "      <th></th>\n",
       "      <th>mon</th>\n",
       "      <th>tue</th>\n",
       "      <th>wed</th>\n",
       "      <th>thu</th>\n",
       "      <th>fri</th>\n",
       "      <th>sat</th>\n",
       "      <th>sun</th>\n",
       "    </tr>\n",
       "  </thead>\n",
       "  <tbody>\n",
       "    <tr>\n",
       "      <th>f</th>\n",
       "      <td>True</td>\n",
       "      <td>False</td>\n",
       "      <td>True</td>\n",
       "      <td>True</td>\n",
       "      <td>True</td>\n",
       "      <td>False</td>\n",
       "      <td>True</td>\n",
       "    </tr>\n",
       "    <tr>\n",
       "      <th>m</th>\n",
       "      <td>True</td>\n",
       "      <td>False</td>\n",
       "      <td>True</td>\n",
       "      <td>True</td>\n",
       "      <td>True</td>\n",
       "      <td>True</td>\n",
       "      <td>True</td>\n",
       "    </tr>\n",
       "    <tr>\n",
       "      <th>s</th>\n",
       "      <td>True</td>\n",
       "      <td>False</td>\n",
       "      <td>False</td>\n",
       "      <td>True</td>\n",
       "      <td>False</td>\n",
       "      <td>True</td>\n",
       "      <td>True</td>\n",
       "    </tr>\n",
       "  </tbody>\n",
       "</table>\n",
       "</div>"
      ],
      "text/plain": [
       "    mon    tue    wed   thu    fri    sat   sun\n",
       "f  True  False   True  True   True  False  True\n",
       "m  True  False   True  True   True   True  True\n",
       "s  True  False  False  True  False   True  True"
      ]
     },
     "execution_count": 16,
     "metadata": {},
     "output_type": "execute_result"
    }
   ],
   "source": [
    "a.availability"
   ]
  },
  {
   "cell_type": "code",
   "execution_count": 17,
   "metadata": {},
   "outputs": [
    {
     "data": {
      "text/html": [
       "<div>\n",
       "<style scoped>\n",
       "    .dataframe tbody tr th:only-of-type {\n",
       "        vertical-align: middle;\n",
       "    }\n",
       "\n",
       "    .dataframe tbody tr th {\n",
       "        vertical-align: top;\n",
       "    }\n",
       "\n",
       "    .dataframe thead th {\n",
       "        text-align: right;\n",
       "    }\n",
       "</style>\n",
       "<table border=\"1\" class=\"dataframe\">\n",
       "  <thead>\n",
       "    <tr style=\"text-align: right;\">\n",
       "      <th></th>\n",
       "      <th>mon</th>\n",
       "      <th>tue</th>\n",
       "      <th>wed</th>\n",
       "      <th>thu</th>\n",
       "      <th>fri</th>\n",
       "      <th>sat</th>\n",
       "      <th>sun</th>\n",
       "    </tr>\n",
       "  </thead>\n",
       "  <tbody>\n",
       "    <tr>\n",
       "      <th>f</th>\n",
       "      <td>False</td>\n",
       "      <td>True</td>\n",
       "      <td>False</td>\n",
       "      <td>False</td>\n",
       "      <td>True</td>\n",
       "      <td>True</td>\n",
       "      <td>False</td>\n",
       "    </tr>\n",
       "    <tr>\n",
       "      <th>m</th>\n",
       "      <td>False</td>\n",
       "      <td>True</td>\n",
       "      <td>False</td>\n",
       "      <td>False</td>\n",
       "      <td>True</td>\n",
       "      <td>False</td>\n",
       "      <td>True</td>\n",
       "    </tr>\n",
       "    <tr>\n",
       "      <th>s</th>\n",
       "      <td>False</td>\n",
       "      <td>True</td>\n",
       "      <td>True</td>\n",
       "      <td>False</td>\n",
       "      <td>True</td>\n",
       "      <td>False</td>\n",
       "      <td>True</td>\n",
       "    </tr>\n",
       "  </tbody>\n",
       "</table>\n",
       "</div>"
      ],
      "text/plain": [
       "     mon   tue    wed    thu   fri    sat    sun\n",
       "f  False  True  False  False  True   True  False\n",
       "m  False  True  False  False  True  False   True\n",
       "s  False  True   True  False  True  False   True"
      ]
     },
     "execution_count": 17,
     "metadata": {},
     "output_type": "execute_result"
    }
   ],
   "source": [
    "b.availability"
   ]
  },
  {
   "cell_type": "code",
   "execution_count": 18,
   "metadata": {},
   "outputs": [
    {
     "data": {
      "text/html": [
       "<div>\n",
       "<style scoped>\n",
       "    .dataframe tbody tr th:only-of-type {\n",
       "        vertical-align: middle;\n",
       "    }\n",
       "\n",
       "    .dataframe tbody tr th {\n",
       "        vertical-align: top;\n",
       "    }\n",
       "\n",
       "    .dataframe thead th {\n",
       "        text-align: right;\n",
       "    }\n",
       "</style>\n",
       "<table border=\"1\" class=\"dataframe\">\n",
       "  <thead>\n",
       "    <tr style=\"text-align: right;\">\n",
       "      <th></th>\n",
       "      <th>mon</th>\n",
       "      <th>tue</th>\n",
       "      <th>wed</th>\n",
       "      <th>thu</th>\n",
       "      <th>fri</th>\n",
       "      <th>sat</th>\n",
       "      <th>sun</th>\n",
       "    </tr>\n",
       "  </thead>\n",
       "  <tbody>\n",
       "    <tr>\n",
       "      <th>f</th>\n",
       "      <td>True</td>\n",
       "      <td>True</td>\n",
       "      <td>False</td>\n",
       "      <td>False</td>\n",
       "      <td>False</td>\n",
       "      <td>True</td>\n",
       "      <td>True</td>\n",
       "    </tr>\n",
       "    <tr>\n",
       "      <th>m</th>\n",
       "      <td>True</td>\n",
       "      <td>True</td>\n",
       "      <td>False</td>\n",
       "      <td>False</td>\n",
       "      <td>False</td>\n",
       "      <td>True</td>\n",
       "      <td>True</td>\n",
       "    </tr>\n",
       "    <tr>\n",
       "      <th>s</th>\n",
       "      <td>False</td>\n",
       "      <td>True</td>\n",
       "      <td>False</td>\n",
       "      <td>False</td>\n",
       "      <td>False</td>\n",
       "      <td>True</td>\n",
       "      <td>True</td>\n",
       "    </tr>\n",
       "  </tbody>\n",
       "</table>\n",
       "</div>"
      ],
      "text/plain": [
       "     mon   tue    wed    thu    fri   sat   sun\n",
       "f   True  True  False  False  False  True  True\n",
       "m   True  True  False  False  False  True  True\n",
       "s  False  True  False  False  False  True  True"
      ]
     },
     "execution_count": 18,
     "metadata": {},
     "output_type": "execute_result"
    }
   ],
   "source": [
    "c.availability"
   ]
  },
  {
   "cell_type": "code",
   "execution_count": 19,
   "metadata": {},
   "outputs": [],
   "source": [
    "employees = []\n",
    "\n",
    "employees.append(a)\n",
    "employees.append(b)\n",
    "employees.append(c)"
   ]
  },
  {
   "cell_type": "code",
   "execution_count": 20,
   "metadata": {},
   "outputs": [
    {
     "data": {
      "text/plain": [
       "[<__main__.employee at 0x148943090>,\n",
       " <__main__.employee at 0x10e7bac50>,\n",
       " <__main__.employee at 0x120c94bd0>]"
      ]
     },
     "execution_count": 20,
     "metadata": {},
     "output_type": "execute_result"
    }
   ],
   "source": [
    "employees"
   ]
  },
  {
   "cell_type": "code",
   "execution_count": 22,
   "metadata": {},
   "outputs": [],
   "source": [
    "available = {'mon': {'f':[], 'm':[], 's':[]}, 'tue': {'f':[], 'm':[], 's':[]}, 'wed': {'f':[], 'm':[], 's':[]}, 'thu': {'f':[], 'm':[], 's':[]}, 'fri': {'f':[], 'm':[], 's':[]}, 'sat': {'f':[], 'm':[], 's':[]}, 'sun': {'f':[], 'm':[], 's':[]}}\n",
    "\n",
    "def emp_availability(emp:employee):\n",
    "    for day in weekdays:\n",
    "        for i in range (3):\n",
    "            if emp.availability[day].values[i] == True:\n",
    "                if i == 0:\n",
    "                    available[day]['f'].append(emp.name)\n",
    "                elif i == 1:\n",
    "                    available[day]['m'].append(emp.name)\n",
    "                else:\n",
    "                    available[day]['s'].append(emp.name)\n",
    "\n",
    "def update():\n",
    "    for emp in employees:\n",
    "        emp_availability(emp)"
   ]
  },
  {
   "cell_type": "code",
   "execution_count": 24,
   "metadata": {},
   "outputs": [
    {
     "data": {
      "text/plain": [
       "{'mon': {'f': ['Ace', 'Charlie'], 'm': ['Ace', 'Charlie'], 's': ['Ace']},\n",
       " 'tue': {'f': ['Bruce', 'Charlie'],\n",
       "  'm': ['Bruce', 'Charlie'],\n",
       "  's': ['Bruce', 'Charlie']},\n",
       " 'wed': {'f': ['Ace'], 'm': ['Ace'], 's': ['Bruce']},\n",
       " 'thu': {'f': ['Ace'], 'm': ['Ace'], 's': ['Ace']},\n",
       " 'fri': {'f': ['Ace', 'Bruce'], 'm': ['Ace', 'Bruce'], 's': ['Bruce']},\n",
       " 'sat': {'f': ['Bruce', 'Charlie'],\n",
       "  'm': ['Ace', 'Charlie'],\n",
       "  's': ['Ace', 'Charlie']},\n",
       " 'sun': {'f': ['Ace', 'Charlie'],\n",
       "  'm': ['Ace', 'Bruce', 'Charlie'],\n",
       "  's': ['Ace', 'Bruce', 'Charlie']}}"
      ]
     },
     "execution_count": 24,
     "metadata": {},
     "output_type": "execute_result"
    }
   ],
   "source": [
    "available"
   ]
  },
  {
   "cell_type": "code",
   "execution_count": 26,
   "metadata": {},
   "outputs": [
    {
     "name": "stdout",
     "output_type": "stream",
     "text": [
      "mon:\n",
      "    f: Ace, Charlie\n",
      "    m: Ace, Charlie\n",
      "    s: Ace\n",
      "tue:\n",
      "    f: Bruce, Charlie\n",
      "    m: Bruce, Charlie\n",
      "    s: Bruce, Charlie\n",
      "wed:\n",
      "    f: Ace\n",
      "    m: Ace\n",
      "    s: Bruce\n",
      "thu:\n",
      "    f: Ace\n",
      "    m: Ace\n",
      "    s: Ace\n",
      "fri:\n",
      "    f: Ace, Bruce\n",
      "    m: Ace, Bruce\n",
      "    s: Bruce\n",
      "sat:\n",
      "    f: Bruce, Charlie\n",
      "    m: Ace, Charlie\n",
      "    s: Ace, Charlie\n",
      "sun:\n",
      "    f: Ace, Charlie\n",
      "    m: Ace, Bruce, Charlie\n",
      "    s: Ace, Bruce, Charlie\n"
     ]
    }
   ],
   "source": [
    "def show_weekly_availability():\n",
    "    for day, staff in available.items():\n",
    "        print(f'{day}:')\n",
    "\n",
    "        for time, emp in available[day].items():\n",
    "            print(f'    {time}: {\", \".join(emp)}')"
   ]
  },
  {
   "cell_type": "markdown",
   "metadata": {},
   "source": [
    "<span style=\"color:#add753; font-size:27px;\">\n",
    "next steps: <br><br>\n",
    "(1) error handling for user input when calling available()  <br>\n",
    "(2) randomly choose an employee for each time on each day from the dictionary 'available'  <br>\n",
    "&nbsp;&nbsp;&nbsp;&nbsp;&nbsp;&nbsp;**considering the weekly hours for each employee**  <br>\n",
    "(3) figure out how to store the values in 'available' in a database so it can be called and used again later  <br>\n",
    "</span>"
   ]
  },
  {
   "cell_type": "code",
   "execution_count": 3,
   "metadata": {},
   "outputs": [
    {
     "name": "stdout",
     "output_type": "stream",
     "text": [
      "{'a': [    mon   tue   wed   thu   fri   sat   sun\n",
      "f  True  True  True  True  True  True  True\n",
      "m  True  True  True  True  True  True  True\n",
      "s  True  True  True  True  True  True  True, 30], 'b': [    mon   tue   wed   thu   fri   sat   sun\n",
      "f  True  True  True  True  True  True  True\n",
      "m  True  True  True  True  True  True  True\n",
      "s  True  True  True  True  True  True  True, 20], 'c': [    mon   tue   wed   thu   fri   sat   sun\n",
      "f  True  True  True  True  True  True  True\n",
      "m  True  True  True  True  True  True  True\n",
      "s  True  True  True  True  True  True  True, 10]}\n"
     ]
    }
   ],
   "source": [
    "# # shift = {employee: dataframe for availability, weekly work hours}\n",
    "# # employees = [[emp1, hours], [emp2, hours], [emp3, hours], ... , [empn, hours]]\n",
    "\n",
    "# shift = {}\n",
    "\n",
    "# employees = []\n",
    "\n",
    "# employees.append(['a', 30])\n",
    "# employees.append(['b', 20])\n",
    "# employees.append(['c', 10])\n",
    "\n",
    "# for emp,hours in employees:\n",
    "#     shift[emp] = [weekly(), hours]\n",
    "\n",
    "# print(shift)"
   ]
  },
  {
   "cell_type": "code",
   "execution_count": 4,
   "metadata": {},
   "outputs": [
    {
     "data": {
      "text/plain": [
       "[    mon   tue   wed   thu   fri   sat   sun\n",
       " f  True  True  True  True  True  True  True\n",
       " m  True  True  True  True  True  True  True\n",
       " s  True  True  True  True  True  True  True,\n",
       " 10]"
      ]
     },
     "execution_count": 4,
     "metadata": {},
     "output_type": "execute_result"
    }
   ],
   "source": [
    "# shift['c']"
   ]
  },
  {
   "cell_type": "code",
   "execution_count": 5,
   "metadata": {},
   "outputs": [
    {
     "data": {
      "text/plain": [
       "f    True\n",
       "m    True\n",
       "s    True\n",
       "Name: mon, dtype: bool"
      ]
     },
     "execution_count": 5,
     "metadata": {},
     "output_type": "execute_result"
    }
   ],
   "source": [
    "# shift['a'][0]['mon']"
   ]
  },
  {
   "cell_type": "code",
   "execution_count": 6,
   "metadata": {},
   "outputs": [],
   "source": [
    "# shift['a'][0]['mon'] = [True, True, True]\n",
    "# shift['a'][0]['tue'] = [False, False, True]\n",
    "# shift['a'][0]['wed'] = [True, False, True]\n",
    "# shift['a'][0]['thu'] = [True, True, True]\n",
    "# shift['a'][0]['fri'] = [False, False, False]\n",
    "# shift['a'][0]['sat'] = [True, True, False]\n",
    "# shift['a'][0]['sun'] = [True, False, False]"
   ]
  },
  {
   "cell_type": "code",
   "execution_count": 7,
   "metadata": {},
   "outputs": [],
   "source": [
    "# shift['b'][0]['mon'] = [False, False, False]\n",
    "# shift['b'][0]['tue'] = [False, True, True]\n",
    "# shift['b'][0]['wed'] = [True, True, True]\n",
    "# shift['b'][0]['thu'] = [True, True, False]\n",
    "# shift['b'][0]['fri'] = [False, True, True]\n",
    "# shift['b'][0]['sat'] = [True, True, True]\n",
    "# shift['b'][0]['sun'] = [True, True, True]"
   ]
  },
  {
   "cell_type": "code",
   "execution_count": 8,
   "metadata": {},
   "outputs": [],
   "source": [
    "# shift['c'][0]['mon'] = [True, True, True]\n",
    "# shift['c'][0]['tue'] = [True, True, True]\n",
    "# shift['c'][0]['wed'] = [True, True, True]\n",
    "# shift['c'][0]['thu'] = [True, True, True]\n",
    "# shift['c'][0]['fri'] = [False, False, False]\n",
    "# shift['c'][0]['sat'] = [False, False, False]\n",
    "# shift['c'][0]['sun'] = [True, True, True]"
   ]
  },
  {
   "cell_type": "code",
   "execution_count": 9,
   "metadata": {},
   "outputs": [
    {
     "data": {
      "text/html": [
       "<div>\n",
       "<style scoped>\n",
       "    .dataframe tbody tr th:only-of-type {\n",
       "        vertical-align: middle;\n",
       "    }\n",
       "\n",
       "    .dataframe tbody tr th {\n",
       "        vertical-align: top;\n",
       "    }\n",
       "\n",
       "    .dataframe thead th {\n",
       "        text-align: right;\n",
       "    }\n",
       "</style>\n",
       "<table border=\"1\" class=\"dataframe\">\n",
       "  <thead>\n",
       "    <tr style=\"text-align: right;\">\n",
       "      <th></th>\n",
       "      <th>mon</th>\n",
       "      <th>tue</th>\n",
       "      <th>wed</th>\n",
       "      <th>thu</th>\n",
       "      <th>fri</th>\n",
       "      <th>sat</th>\n",
       "      <th>sun</th>\n",
       "    </tr>\n",
       "  </thead>\n",
       "  <tbody>\n",
       "    <tr>\n",
       "      <th>f</th>\n",
       "      <td>True</td>\n",
       "      <td>False</td>\n",
       "      <td>True</td>\n",
       "      <td>True</td>\n",
       "      <td>False</td>\n",
       "      <td>True</td>\n",
       "      <td>True</td>\n",
       "    </tr>\n",
       "    <tr>\n",
       "      <th>m</th>\n",
       "      <td>True</td>\n",
       "      <td>False</td>\n",
       "      <td>False</td>\n",
       "      <td>True</td>\n",
       "      <td>False</td>\n",
       "      <td>True</td>\n",
       "      <td>False</td>\n",
       "    </tr>\n",
       "    <tr>\n",
       "      <th>s</th>\n",
       "      <td>True</td>\n",
       "      <td>True</td>\n",
       "      <td>True</td>\n",
       "      <td>True</td>\n",
       "      <td>False</td>\n",
       "      <td>False</td>\n",
       "      <td>False</td>\n",
       "    </tr>\n",
       "  </tbody>\n",
       "</table>\n",
       "</div>"
      ],
      "text/plain": [
       "    mon    tue    wed   thu    fri    sat    sun\n",
       "f  True  False   True  True  False   True   True\n",
       "m  True  False  False  True  False   True  False\n",
       "s  True   True   True  True  False  False  False"
      ]
     },
     "execution_count": 9,
     "metadata": {},
     "output_type": "execute_result"
    }
   ],
   "source": [
    "# shift['a'][0]"
   ]
  },
  {
   "cell_type": "code",
   "execution_count": 14,
   "metadata": {},
   "outputs": [],
   "source": [
    "# available = {'mon': {'f':[], 'm':[], 's':[]}, 'tue': {'f':[], 'm':[], 's':[]}, 'wed': {'f':[], 'm':[], 's':[]}, 'thu': {'f':[], 'm':[], 's':[]}, 'fri': {'f':[], 'm':[], 's':[]}, 'sat': {'f':[], 'm':[], 's':[]}, 'sun': {'f':[], 'm':[], 's':[]}}\n",
    "\n",
    "# for emp in shift:\n",
    "#     for day in shift[emp][0].columns:\n",
    "#         for available_day in available:\n",
    "#             for time in \n",
    "#             if day == available_day:\n",
    "                \n",
    "#             available.append(emp)\n"
   ]
  },
  {
   "cell_type": "code",
   "execution_count": 10,
   "metadata": {},
   "outputs": [
    {
     "data": {
      "text/plain": [
       "Index(['mon', 'tue', 'wed', 'thu', 'fri', 'sat', 'sun'], dtype='object')"
      ]
     },
     "execution_count": 10,
     "metadata": {},
     "output_type": "execute_result"
    }
   ],
   "source": [
    "# shift['a'][0].columns"
   ]
  },
  {
   "cell_type": "code",
   "execution_count": 11,
   "metadata": {},
   "outputs": [
    {
     "data": {
      "text/plain": [
       "array([ True,  True,  True])"
      ]
     },
     "execution_count": 11,
     "metadata": {},
     "output_type": "execute_result"
    }
   ],
   "source": [
    "# shift['a'][0]['mon'].values"
   ]
  },
  {
   "cell_type": "code",
   "execution_count": 15,
   "metadata": {},
   "outputs": [
    {
     "data": {
      "text/plain": [
       "{'mon': {'f': [], 'm': [], 's': []},\n",
       " 'tue': {'f': [], 'm': [], 's': []},\n",
       " 'wed': {'f': [], 'm': [], 's': []},\n",
       " 'thu': {'f': [], 'm': [], 's': []},\n",
       " 'fri': {'f': [], 'm': [], 's': []},\n",
       " 'sat': {'f': [], 'm': [], 's': []},\n",
       " 'sun': {'f': [], 'm': [], 's': []}}"
      ]
     },
     "execution_count": 15,
     "metadata": {},
     "output_type": "execute_result"
    }
   ],
   "source": [
    "# available"
   ]
  },
  {
   "cell_type": "code",
   "execution_count": 16,
   "metadata": {},
   "outputs": [],
   "source": [
    "# weekdays = ['mon', 'tue', 'wed', 'thu', 'fri', 'sat', 'sun']\n",
    "\n",
    "# def emp_availability(emp):\n",
    "#     for day in weekdays:\n",
    "#         for i in range (3):\n",
    "#             if shift['a'][0][day].values[i] == True:\n",
    "#                 if i == 0:\n",
    "#                     available[day]['f'].append('a')\n",
    "#                 elif i == 1:\n",
    "#                     available[day]['m'].append('a')\n",
    "#                 else:\n",
    "#                     available[day]['s'].append('a')"
   ]
  },
  {
   "cell_type": "code",
   "execution_count": 17,
   "metadata": {},
   "outputs": [
    {
     "data": {
      "text/plain": [
       "{'mon': {'f': ['a'], 'm': ['a'], 's': ['a']},\n",
       " 'tue': {'f': [], 'm': [], 's': ['a']},\n",
       " 'wed': {'f': ['a'], 'm': [], 's': ['a']},\n",
       " 'thu': {'f': ['a'], 'm': ['a'], 's': ['a']},\n",
       " 'fri': {'f': [], 'm': [], 's': []},\n",
       " 'sat': {'f': ['a'], 'm': ['a'], 's': []},\n",
       " 'sun': {'f': ['a'], 'm': [], 's': []}}"
      ]
     },
     "execution_count": 17,
     "metadata": {},
     "output_type": "execute_result"
    }
   ],
   "source": [
    "# available"
   ]
  }
 ],
 "metadata": {
  "kernelspec": {
   "display_name": "Python 3",
   "language": "python",
   "name": "python3"
  },
  "language_info": {
   "codemirror_mode": {
    "name": "ipython",
    "version": 3
   },
   "file_extension": ".py",
   "mimetype": "text/x-python",
   "name": "python",
   "nbconvert_exporter": "python",
   "pygments_lexer": "ipython3",
   "version": "3.11.5"
  }
 },
 "nbformat": 4,
 "nbformat_minor": 2
}
